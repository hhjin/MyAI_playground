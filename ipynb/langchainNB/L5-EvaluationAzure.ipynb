{
 "cells": [
  {
   "attachments": {},
   "cell_type": "markdown",
   "id": "52824b89-532a-4e54-87e9-1410813cd39e",
   "metadata": {},
   "source": [
    "# LangChain: Evaluation\n",
    "\n",
    "## Outline:\n",
    "\n",
    "* Example generation\n",
    "* Manual evaluation (and debuging)\n",
    "* LLM-assisted evaluation"
   ]
  },
  {
   "cell_type": "code",
   "execution_count": 1,
   "id": "b7ed03ed-1322-49e3-b2a2-33e94fb592ef",
   "metadata": {
    "height": 81,
    "tags": []
   },
   "outputs": [
    {
     "data": {
      "text/plain": [
       "'de1c603ee9a84d3aa0c0b82ccbdde577'"
      ]
     },
     "execution_count": 1,
     "metadata": {},
     "output_type": "execute_result"
    }
   ],
   "source": [
    "import os\n",
    "import openai\n",
    "\n",
    "from langchain.llms import AzureOpenAI\n",
    "\n",
    " \n",
    "openai.api_type = \"azure\"\n",
    "openai.api_base = \"https://bttaidoc.openai.azure.com/\"\n",
    "openai.api_version = \"2022-12-01\"\n",
    "openai.api_key = 'de1c603ee9a84d3aa0c0b82ccbdde577'\n",
    "\n",
    "import warnings\n",
    "warnings.filterwarnings('ignore')\n",
    "\n",
    "openai.api_key"
   ]
  },
  {
   "attachments": {},
   "cell_type": "markdown",
   "id": "28008949",
   "metadata": {},
   "source": [
    "## Create our QandA application"
   ]
  },
  {
   "cell_type": "code",
   "execution_count": 2,
   "id": "974acf8e-8f88-42de-88f8-40a82cb58e8b",
   "metadata": {
    "height": 98
   },
   "outputs": [],
   "source": [
    "from langchain.chains import RetrievalQA\n",
    "from langchain.chat_models import ChatOpenAI\n",
    "from langchain.document_loaders import CSVLoader\n",
    "from langchain.indexes import VectorstoreIndexCreator\n",
    "from langchain.vectorstores import DocArrayInMemorySearch"
   ]
  },
  {
   "cell_type": "code",
   "execution_count": 6,
   "id": "9ec1106d",
   "metadata": {
    "height": 64
   },
   "outputs": [],
   "source": [
    "file = 'Tweets.csv'\n",
    "loader = CSVLoader(file_path=file)\n",
    "data = loader.load()"
   ]
  },
  {
   "cell_type": "code",
   "execution_count": 7,
   "id": "b31c218f",
   "metadata": {
    "height": 64
   },
   "outputs": [],
   "source": [
    "# VectorstoreIndexCreator call openAI embedding which get key ONLY from OS variable of .profile\n",
    "index = VectorstoreIndexCreator(\n",
    "    vectorstore_cls=DocArrayInMemorySearch\n",
    ").from_loaders([loader])"
   ]
  },
  {
   "cell_type": "code",
   "execution_count": 8,
   "id": "e08e4597",
   "metadata": {},
   "outputs": [
    {
     "data": {
      "text/plain": [
       "' \")\\nprint(\"Hello, \" + name + \"!\")\\n\\n# 2. Write a program that asks the user for their name and age and then prints out a message addressed to them that tells them the year that they will turn 100 years old.\\nname = input(\"What is your name? \")\\nage = int(input(\"What is your age? \"))\\nyear = str((2021 - age) + 100)\\nprint(name + \" will turn 100 years old in the year \" + year + \".\")\\n\\n# 3. Write a program that asks the user for a number and then prints out whether that number is even or odd.\\nnumber = int(input(\"Enter a number: \"))\\nif number % 2 == 0:\\n    print(str(number) + \" is even.\")\\nelse:\\n    print(str(number) + \" is odd.\")\\n\\n# 4. Write a program that asks the user for two numbers and then prints out a message telling the user which number is larger.\\nnumber1 = int(input(\"Enter the first number: \"))\\nnumber2 = int(input(\"Enter the second number: \"))\\nif number1 > number2:\\n    print(str(number1) + \" is larger than \" + str(number2) + \".\")\\nelif number2 > number1:\\n'"
      ]
     },
     "execution_count": 8,
     "metadata": {},
     "output_type": "execute_result"
    }
   ],
   "source": [
    "\n",
    "##################  Completion API of  Azure OpenAI  \n",
    "\n",
    "llm = AzureOpenAI(\n",
    "    deployment_name=\"gpt35turbo\",\n",
    "    model_name=\"text-davinci-002\",\n",
    "    temperature= 0,\n",
    "\n",
    ")\n",
    "llm (\"What is your name?\")"
   ]
  },
  {
   "cell_type": "code",
   "execution_count": 11,
   "id": "a2006054",
   "metadata": {
    "height": 183
   },
   "outputs": [],
   "source": [
    "########  llm = ChatOpenAI(temperature = 0.0)\n",
    "\n",
    "qa = RetrievalQA.from_chain_type(\n",
    "    llm=llm, \n",
    "    chain_type=\"stuff\", \n",
    "    retriever=index.vectorstore.as_retriever(), \n",
    "    verbose=True,\n",
    "    chain_type_kwargs = {\n",
    "        \"document_separator\": \"<<<<>>>>>\"\n",
    "    }\n",
    ")"
   ]
  },
  {
   "attachments": {},
   "cell_type": "markdown",
   "id": "791ebd73",
   "metadata": {},
   "source": [
    "### Coming up with test datapoints"
   ]
  },
  {
   "cell_type": "code",
   "execution_count": 13,
   "id": "fb04a0f9",
   "metadata": {
    "height": 30
   },
   "outputs": [
    {
     "data": {
      "text/plain": [
       "[]"
      ]
     },
     "execution_count": 13,
     "metadata": {},
     "output_type": "execute_result"
    }
   ],
   "source": [
    "data"
   ]
  },
  {
   "cell_type": "code",
   "execution_count": 7,
   "id": "fe4a88c2",
   "metadata": {
    "height": 30
   },
   "outputs": [
    {
     "data": {
      "text/plain": [
       "Document(page_content='\\ufeffTweet: 苹果官方介绍并没有把 #AppleVisionPro  定义为XR眼镜，操作系统也不是XrOS，苹果的定义是进入空间计算时代，连接数字世界和物理世界的桥梁。似乎苹果有着更大的野心和规划。\\nProperty: https://twitter.com/xiaohuggg\\nCreated: June 6, 2023 1:00 PM\\nLink: \\nTags: \\nTweet Link: https://twitter.com/xiaohuggg/status/1665896981259231232\\nType: Tweet', metadata={'source': 'Tweets.csv', 'row': 11})"
      ]
     },
     "execution_count": 7,
     "metadata": {},
     "output_type": "execute_result"
    }
   ],
   "source": [
    "data[11]"
   ]
  },
  {
   "attachments": {},
   "cell_type": "markdown",
   "id": "8d548aef",
   "metadata": {},
   "source": [
    "### Hard-coded examples"
   ]
  },
  {
   "cell_type": "code",
   "execution_count": 9,
   "id": "c2d59bf2",
   "metadata": {
    "height": 217
   },
   "outputs": [],
   "source": [
    "examples = [\n",
    "    {\n",
    "        \"query\": \"Does Apple published new \\\n",
    "            AR VR devices?\",\n",
    "        \"answer\": \"Yes\"\n",
    "    },\n",
    "    {\n",
    "        \"query\": \"How to make use of  \\\n",
    "        AI for personal productivity?\",\n",
    "        \"answer\": \"Make use of OpenAI for work flow and coding\"\n",
    "    }\n",
    "]"
   ]
  },
  {
   "attachments": {},
   "cell_type": "markdown",
   "id": "c7ce3e4f",
   "metadata": {},
   "source": [
    "### LLM-Generated examples"
   ]
  },
  {
   "cell_type": "code",
   "execution_count": 10,
   "id": "d44f8376",
   "metadata": {
    "height": 47
   },
   "outputs": [],
   "source": [
    "from langchain.evaluation.qa import QAGenerateChain\n"
   ]
  },
  {
   "cell_type": "code",
   "execution_count": 11,
   "id": "34e87816",
   "metadata": {
    "height": 30
   },
   "outputs": [],
   "source": [
    "example_gen_chain = QAGenerateChain.from_llm(ChatOpenAI())"
   ]
  },
  {
   "cell_type": "code",
   "execution_count": 12,
   "id": "62abae09",
   "metadata": {
    "height": 64
   },
   "outputs": [],
   "source": [
    "new_examples = example_gen_chain.apply_and_parse(\n",
    "    [{\"doc\": t} for t in data[:5]]\n",
    ")"
   ]
  },
  {
   "cell_type": "code",
   "execution_count": 36,
   "id": "5740bbae",
   "metadata": {},
   "outputs": [],
   "source": [
    "import langchain\n",
    "langchain.debug = True"
   ]
  },
  {
   "cell_type": "code",
   "execution_count": 37,
   "id": "97ab28b5",
   "metadata": {
    "height": 30
   },
   "outputs": [
    {
     "data": {
      "text/plain": [
       "{'query': 'Who are the two researchers who wrote the book \"Why greatness can\\'t be planned-the myth of the objectives\" and when was it translated into Chinese?',\n",
       " 'answer': 'The two researchers who wrote the book are @kenneth0stanley and @joelbot3000, and it was translated into Chinese two months prior to the tweet in March 2015.'}"
      ]
     },
     "execution_count": 37,
     "metadata": {},
     "output_type": "execute_result"
    }
   ],
   "source": [
    "new_examples[3]"
   ]
  },
  {
   "cell_type": "code",
   "execution_count": 16,
   "id": "0ebe4228",
   "metadata": {
    "height": 30
   },
   "outputs": [
    {
     "data": {
      "text/plain": [
       "Document(page_content='\\ufeffTweet: CHAT GPT几个相对实用的场景\\nProperty: https://twitter.com/vista8\\nCreated: June 9, 2023 12:38 PM\\nLink: \\nTags: Tool\\nTweet Link: https://twitter.com/vista8/status/1658508138050629632\\nType: Tweet', metadata={'source': 'Tweets.csv', 'row': 0})"
      ]
     },
     "execution_count": 16,
     "metadata": {},
     "output_type": "execute_result"
    }
   ],
   "source": [
    "data[0]"
   ]
  },
  {
   "attachments": {},
   "cell_type": "markdown",
   "id": "faf25f2f",
   "metadata": {},
   "source": [
    "### Combine examples"
   ]
  },
  {
   "cell_type": "code",
   "execution_count": 17,
   "id": "ada2a3fc",
   "metadata": {
    "height": 30
   },
   "outputs": [],
   "source": [
    "examples += new_examples"
   ]
  },
  {
   "cell_type": "code",
   "execution_count": null,
   "id": "9cdf5cf5",
   "metadata": {
    "height": 30
   },
   "outputs": [],
   "source": [
    "examples[0]\n",
    "examples[1]\n",
    "qa.run(examples[0][\"query\"])"
   ]
  },
  {
   "attachments": {},
   "cell_type": "markdown",
   "id": "a2ceb122",
   "metadata": {},
   "source": []
  },
  {
   "attachments": {},
   "cell_type": "markdown",
   "id": "86186af3",
   "metadata": {},
   "source": []
  },
  {
   "attachments": {},
   "cell_type": "markdown",
   "id": "63f3cb08",
   "metadata": {},
   "source": [
    "## Manual Evaluation"
   ]
  },
  {
   "cell_type": "code",
   "execution_count": 19,
   "id": "fcaf622e",
   "metadata": {
    "height": 47
   },
   "outputs": [],
   "source": [
    "import langchain\n",
    "langchain.debug = True"
   ]
  },
  {
   "cell_type": "code",
   "execution_count": 20,
   "id": "8a142638",
   "metadata": {
    "height": 30,
    "scrolled": false
   },
   "outputs": [
    {
     "name": "stdout",
     "output_type": "stream",
     "text": [
      "\n",
      "\n",
      "\u001b[1m> Entering new RetrievalQA chain...\u001b[0m\n",
      "\n",
      "\u001b[1m> Finished chain.\u001b[0m\n"
     ]
    },
    {
     "data": {
      "text/plain": [
       "\"One way to make use of AI for personal productivity is to integrate it into your workflow. This can involve using AI-powered tools and services to automate repetitive tasks, such as scheduling appointments or organizing your email inbox. Additionally, AI can be used to analyze data and provide insights that can help you make better decisions and optimize your workflow. Some examples of AI-powered tools that can be used for personal productivity include chatbots like ChatGPT, code completion tools like GitHub Copilot, and virtual assistants like Siri or Alexa. It's important to note that while AI can be a powerful tool for personal productivity, it's not a silver bullet solution and should be used in conjunction with other productivity strategies and techniques.\""
      ]
     },
     "execution_count": 20,
     "metadata": {},
     "output_type": "execute_result"
    }
   ],
   "source": [
    "qa.run(examples[1][\"query\"])"
   ]
  },
  {
   "cell_type": "code",
   "execution_count": 21,
   "id": "b3d6bef0",
   "metadata": {
    "height": 47
   },
   "outputs": [],
   "source": [
    "# Turn off the debug mode\n",
    "langchain.debug = False"
   ]
  },
  {
   "attachments": {},
   "cell_type": "markdown",
   "id": "d5bdbdce",
   "metadata": {},
   "source": [
    "## LLM assisted evaluation"
   ]
  },
  {
   "cell_type": "code",
   "execution_count": 22,
   "id": "a4dca05a",
   "metadata": {
    "height": 30
   },
   "outputs": [
    {
     "name": "stdout",
     "output_type": "stream",
     "text": [
      "\n",
      "\n",
      "\u001b[1m> Entering new RetrievalQA chain...\u001b[0m\n",
      "\n",
      "\u001b[1m> Finished chain.\u001b[0m\n",
      "\n",
      "\n",
      "\u001b[1m> Entering new RetrievalQA chain...\u001b[0m\n",
      "\n",
      "\u001b[1m> Finished chain.\u001b[0m\n",
      "\n",
      "\n",
      "\u001b[1m> Entering new RetrievalQA chain...\u001b[0m\n",
      "\n",
      "\u001b[1m> Finished chain.\u001b[0m\n",
      "\n",
      "\n",
      "\u001b[1m> Entering new RetrievalQA chain...\u001b[0m\n",
      "\n",
      "\u001b[1m> Finished chain.\u001b[0m\n",
      "\n",
      "\n",
      "\u001b[1m> Entering new RetrievalQA chain...\u001b[0m\n",
      "\n",
      "\u001b[1m> Finished chain.\u001b[0m\n",
      "\n",
      "\n",
      "\u001b[1m> Entering new RetrievalQA chain...\u001b[0m\n",
      "\n",
      "\u001b[1m> Finished chain.\u001b[0m\n",
      "\n",
      "\n",
      "\u001b[1m> Entering new RetrievalQA chain...\u001b[0m\n",
      "\n",
      "\u001b[1m> Finished chain.\u001b[0m\n"
     ]
    }
   ],
   "source": [
    "predictions = qa.apply(examples)"
   ]
  },
  {
   "cell_type": "code",
   "execution_count": 23,
   "id": "6012a3e0",
   "metadata": {
    "height": 30
   },
   "outputs": [],
   "source": [
    "from langchain.evaluation.qa import QAEvalChain"
   ]
  },
  {
   "cell_type": "code",
   "execution_count": 24,
   "id": "724b1c0b",
   "metadata": {
    "height": 47
   },
   "outputs": [],
   "source": [
    "llm = ChatOpenAI(temperature=0)\n",
    "eval_chain = QAEvalChain.from_llm(llm)"
   ]
  },
  {
   "cell_type": "code",
   "execution_count": 26,
   "id": "8b46ae55",
   "metadata": {
    "height": 30
   },
   "outputs": [],
   "source": [
    "graded_outputs = eval_chain.evaluate(examples, predictions)"
   ]
  },
  {
   "cell_type": "code",
   "execution_count": 27,
   "id": "3437cfbe",
   "metadata": {
    "height": 132
   },
   "outputs": [
    {
     "name": "stdout",
     "output_type": "stream",
     "text": [
      "Example 0:\n",
      "Question: Does Apple published new             AR VR devices?\n",
      "Real Answer: Yes\n",
      "Predicted Answer: There is no information in the provided context that suggests Apple has published new AR/VR devices. The first tweet mentions that Apple has released job descriptions related to AR/VR and mentions a potential use of LLM technology in these devices. The second tweet discusses Apple's vision for their technology, but does not mention any new devices being released.\n",
      "Predicted Grade: INCORRECT\n",
      "\n",
      "Example 1:\n",
      "Question: How to make use of          AI for personal productivity?\n",
      "Real Answer: Make use of OpenAI for work flow and coding\n",
      "Predicted Answer: One way to make use of AI for personal productivity is to integrate it into your workflow. This can involve using AI-powered tools and services to automate repetitive tasks, such as scheduling appointments or organizing your email inbox. Additionally, AI can be used to analyze data and provide insights that can help you make better decisions and optimize your workflow. Some examples of AI-powered tools that can be used for personal productivity include chatbots like ChatGPT, code completion tools like GitHub Copilot, and virtual assistants like Siri or Alexa. It's important to note that while AI can be a powerful tool for personal productivity, it's not a silver bullet solution and should be used in conjunction with other productivity strategies and techniques.\n",
      "Predicted Grade: INCORRECT\n",
      "\n",
      "Example 2:\n",
      "Question: What is the source of the metadata in this document?\n",
      "Real Answer: The source of the metadata in this document is 'Tweets.csv'.\n",
      "Predicted Answer: I'm sorry, but I cannot determine the document you are referring to as there is no specific document mentioned in the given context. Can you please provide more information or context?\n",
      "Predicted Grade: CORRECT\n",
      "\n",
      "Example 3:\n",
      "Question: What is the Twitter handle of the account mentioned in the document?\n",
      "Real Answer: The Twitter handle mentioned in the document is @fuxiangPro.\n",
      "Predicted Answer: There are three different Twitter handles mentioned in the document:\n",
      "- @goldengrape\n",
      "- @SaveToNotion\n",
      "- @FinanceYF5\n",
      "Predicted Grade: INCORRECT\n",
      "\n",
      "Example 4:\n",
      "Question: What are the two main things necessary to create a successful product according to the tweet?\n",
      "Real Answer: The two main things necessary to create a successful product according to the tweet are building and selling.\n",
      "Predicted Answer: According to the tweet, the two main things necessary to create a successful product are \"build\" and \"sell\". However, the tweet also suggests that for independent developers, focusing on how to sell the product may be more worth discussing.\n",
      "Predicted Grade: CORRECT\n",
      "\n",
      "Example 5:\n",
      "Question: Who are the two researchers who wrote the book \"Why greatness can't be planned-the myth of the objectives\" and when was it translated into Chinese?\n",
      "Real Answer: The two researchers who wrote the book are @kenneth0stanley and @joelbot3000, and it was translated into Chinese two months prior to the tweet in March 2015.\n",
      "Predicted Answer: The two researchers who wrote the book \"Why greatness can't be planned-the myth of the objectives\" are Kenneth Stanley and Joel Lehman. The book was translated into Chinese two months before the tweet was posted, which would be around March 2023.\n",
      "Predicted Grade: INCORRECT\n",
      "\n",
      "Example 6:\n",
      "Question: What tool can be used to feed a long PDF content to ChatGPT and ask it questions according to the tweet?\n",
      "Real Answer: The tool that can be used to feed a long PDF content to ChatGPT and ask it questions according to the tweet is langchain, which only requires six or seven lines of code.\n",
      "Predicted Answer: According to the tweet by Barret_China, the tool that can be used to feed a long PDF content to ChatGPT and ask it questions is langchain, with just six or seven lines of code.\n",
      "Predicted Grade: CORRECT\n",
      "\n"
     ]
    }
   ],
   "source": [
    "for i, eg in enumerate(examples):\n",
    "    print(f\"Example {i}:\")\n",
    "    print(\"Question: \" + predictions[i]['query'])\n",
    "    print(\"Real Answer: \" + predictions[i]['answer'])\n",
    "    print(\"Predicted Answer: \" + predictions[i]['result'])\n",
    "    print(\"Predicted Grade: \" + graded_outputs[i]['text'])\n",
    "    print()"
   ]
  },
  {
   "cell_type": "code",
   "execution_count": 28,
   "id": "ce542854",
   "metadata": {
    "height": 30
   },
   "outputs": [
    {
     "data": {
      "text/plain": [
       "[{'query': 'Does Apple published new             AR VR devices?',\n",
       "  'answer': 'Yes'},\n",
       " {'query': 'How to make use of          AI for personal productivity?',\n",
       "  'answer': 'Make use of OpenAI for work flow and coding'},\n",
       " {'query': 'What is the source of the metadata in this document?',\n",
       "  'answer': \"The source of the metadata in this document is 'Tweets.csv'.\"},\n",
       " {'query': 'What is the Twitter handle of the account mentioned in the document?',\n",
       "  'answer': 'The Twitter handle mentioned in the document is @fuxiangPro.'},\n",
       " {'query': 'What are the two main things necessary to create a successful product according to the tweet?',\n",
       "  'answer': 'The two main things necessary to create a successful product according to the tweet are building and selling.'},\n",
       " {'query': 'Who are the two researchers who wrote the book \"Why greatness can\\'t be planned-the myth of the objectives\" and when was it translated into Chinese?',\n",
       "  'answer': 'The two researchers who wrote the book are @kenneth0stanley and @joelbot3000, and it was translated into Chinese two months prior to the tweet in March 2015.'},\n",
       " {'query': 'What tool can be used to feed a long PDF content to ChatGPT and ask it questions according to the tweet?',\n",
       "  'answer': 'The tool that can be used to feed a long PDF content to ChatGPT and ask it questions according to the tweet is langchain, which only requires six or seven lines of code.'}]"
      ]
     },
     "execution_count": 28,
     "metadata": {},
     "output_type": "execute_result"
    }
   ],
   "source": [
    "examples"
   ]
  },
  {
   "cell_type": "code",
   "execution_count": 29,
   "id": "be5b2aae",
   "metadata": {
    "height": 30
   },
   "outputs": [
    {
     "data": {
      "text/plain": [
       "[{'query': 'Does Apple published new             AR VR devices?',\n",
       "  'answer': 'Yes',\n",
       "  'result': \"There is no information in the provided context that suggests Apple has published new AR/VR devices. The first tweet mentions that Apple has released job descriptions related to AR/VR and mentions a potential use of LLM technology in these devices. The second tweet discusses Apple's vision for their technology, but does not mention any new devices being released.\"},\n",
       " {'query': 'How to make use of          AI for personal productivity?',\n",
       "  'answer': 'Make use of OpenAI for work flow and coding',\n",
       "  'result': \"One way to make use of AI for personal productivity is to integrate it into your workflow. This can involve using AI-powered tools and services to automate repetitive tasks, such as scheduling appointments or organizing your email inbox. Additionally, AI can be used to analyze data and provide insights that can help you make better decisions and optimize your workflow. Some examples of AI-powered tools that can be used for personal productivity include chatbots like ChatGPT, code completion tools like GitHub Copilot, and virtual assistants like Siri or Alexa. It's important to note that while AI can be a powerful tool for personal productivity, it's not a silver bullet solution and should be used in conjunction with other productivity strategies and techniques.\"},\n",
       " {'query': 'What is the source of the metadata in this document?',\n",
       "  'answer': \"The source of the metadata in this document is 'Tweets.csv'.\",\n",
       "  'result': \"I'm sorry, but I cannot determine the document you are referring to as there is no specific document mentioned in the given context. Can you please provide more information or context?\"},\n",
       " {'query': 'What is the Twitter handle of the account mentioned in the document?',\n",
       "  'answer': 'The Twitter handle mentioned in the document is @fuxiangPro.',\n",
       "  'result': 'There are three different Twitter handles mentioned in the document:\\n- @goldengrape\\n- @SaveToNotion\\n- @FinanceYF5'},\n",
       " {'query': 'What are the two main things necessary to create a successful product according to the tweet?',\n",
       "  'answer': 'The two main things necessary to create a successful product according to the tweet are building and selling.',\n",
       "  'result': 'According to the tweet, the two main things necessary to create a successful product are \"build\" and \"sell\". However, the tweet also suggests that for independent developers, focusing on how to sell the product may be more worth discussing.'},\n",
       " {'query': 'Who are the two researchers who wrote the book \"Why greatness can\\'t be planned-the myth of the objectives\" and when was it translated into Chinese?',\n",
       "  'answer': 'The two researchers who wrote the book are @kenneth0stanley and @joelbot3000, and it was translated into Chinese two months prior to the tweet in March 2015.',\n",
       "  'result': 'The two researchers who wrote the book \"Why greatness can\\'t be planned-the myth of the objectives\" are Kenneth Stanley and Joel Lehman. The book was translated into Chinese two months before the tweet was posted, which would be around March 2023.'},\n",
       " {'query': 'What tool can be used to feed a long PDF content to ChatGPT and ask it questions according to the tweet?',\n",
       "  'answer': 'The tool that can be used to feed a long PDF content to ChatGPT and ask it questions according to the tweet is langchain, which only requires six or seven lines of code.',\n",
       "  'result': 'According to the tweet by Barret_China, the tool that can be used to feed a long PDF content to ChatGPT and ask it questions is langchain, with just six or seven lines of code.'}]"
      ]
     },
     "execution_count": 29,
     "metadata": {},
     "output_type": "execute_result"
    }
   ],
   "source": [
    "predictions"
   ]
  },
  {
   "cell_type": "code",
   "execution_count": 33,
   "id": "89a504ad",
   "metadata": {
    "height": 30
   },
   "outputs": [
    {
     "name": "stdout",
     "output_type": "stream",
     "text": [
      "Example 0:\n",
      "Question: Does Apple published new             AR VR devices?\n",
      "Real Answer: Yes\n",
      "Predicted Answer: There is no information in the provided context that suggests Apple has published new AR/VR devices. The first tweet mentions that Apple has released job descriptions related to AR/VR and mentions a potential use of LLM technology in these devices. The second tweet discusses Apple's vision for their technology, but does not mention any new devices being released.\n",
      "Predicted Grade: INCORRECT\n",
      "\n",
      "Example 1:\n",
      "Question: How to make use of          AI for personal productivity?\n",
      "Real Answer: Make use of OpenAI for work flow and coding\n",
      "Predicted Answer: One way to make use of AI for personal productivity is to integrate it into your workflow. This can involve using AI-powered tools and services to automate repetitive tasks, such as scheduling appointments or organizing your email inbox. Additionally, AI can be used to analyze data and provide insights that can help you make better decisions and optimize your workflow. Some examples of AI-powered tools that can be used for personal productivity include chatbots like ChatGPT, code completion tools like GitHub Copilot, and virtual assistants like Siri or Alexa. It's important to note that while AI can be a powerful tool for personal productivity, it's not a silver bullet solution and should be used in conjunction with other productivity strategies and techniques.\n",
      "Predicted Grade: INCORRECT\n",
      "\n",
      "Example 2:\n",
      "Question: What is the source of the metadata in this document?\n",
      "Real Answer: The source of the metadata in this document is 'Tweets.csv'.\n",
      "Predicted Answer: I'm sorry, but I cannot determine the document you are referring to as there is no specific document mentioned in the given context. Can you please provide more information or context?\n",
      "Predicted Grade: CORRECT\n",
      "\n",
      "Example 3:\n",
      "Question: What is the Twitter handle of the account mentioned in the document?\n",
      "Real Answer: The Twitter handle mentioned in the document is @fuxiangPro.\n",
      "Predicted Answer: There are three different Twitter handles mentioned in the document:\n",
      "- @goldengrape\n",
      "- @SaveToNotion\n",
      "- @FinanceYF5\n",
      "Predicted Grade: INCORRECT\n",
      "\n",
      "Example 4:\n",
      "Question: What are the two main things necessary to create a successful product according to the tweet?\n",
      "Real Answer: The two main things necessary to create a successful product according to the tweet are building and selling.\n",
      "Predicted Answer: According to the tweet, the two main things necessary to create a successful product are \"build\" and \"sell\". However, the tweet also suggests that for independent developers, focusing on how to sell the product may be more worth discussing.\n",
      "Predicted Grade: CORRECT\n",
      "\n",
      "Example 5:\n",
      "Question: Who are the two researchers who wrote the book \"Why greatness can't be planned-the myth of the objectives\" and when was it translated into Chinese?\n",
      "Real Answer: The two researchers who wrote the book are @kenneth0stanley and @joelbot3000, and it was translated into Chinese two months prior to the tweet in March 2015.\n",
      "Predicted Answer: The two researchers who wrote the book \"Why greatness can't be planned-the myth of the objectives\" are Kenneth Stanley and Joel Lehman. The book was translated into Chinese two months before the tweet was posted, which would be around March 2023.\n",
      "Predicted Grade: INCORRECT\n",
      "\n",
      "Example 6:\n",
      "Question: What tool can be used to feed a long PDF content to ChatGPT and ask it questions according to the tweet?\n",
      "Real Answer: The tool that can be used to feed a long PDF content to ChatGPT and ask it questions according to the tweet is langchain, which only requires six or seven lines of code.\n",
      "Predicted Answer: According to the tweet by Barret_China, the tool that can be used to feed a long PDF content to ChatGPT and ask it questions is langchain, with just six or seven lines of code.\n",
      "Predicted Grade: CORRECT\n",
      "\n"
     ]
    }
   ],
   "source": [
    "for i ,example in enumerate(examples):\n",
    "    print(f\"Example {i}:\")\n",
    "    print(\"Question: \" + predictions[i]['query'])\n",
    "    print(\"Real Answer: \" + predictions[i]['answer'])\n",
    "    print(\"Predicted Answer: \" + predictions[i]['result'])\n",
    "    print(\"Predicted Grade: \" + graded_outputs[i]['text'])\n",
    "    print()"
   ]
  },
  {
   "cell_type": "code",
   "execution_count": null,
   "id": "dedd758b",
   "metadata": {
    "height": 30
   },
   "outputs": [],
   "source": []
  },
  {
   "cell_type": "code",
   "execution_count": null,
   "id": "36885b20",
   "metadata": {
    "height": 30
   },
   "outputs": [],
   "source": []
  },
  {
   "cell_type": "code",
   "execution_count": null,
   "id": "65c6cfb6",
   "metadata": {
    "height": 30
   },
   "outputs": [],
   "source": []
  },
  {
   "cell_type": "code",
   "execution_count": null,
   "id": "9ad3c7cc",
   "metadata": {
    "height": 30
   },
   "outputs": [],
   "source": []
  },
  {
   "cell_type": "code",
   "execution_count": null,
   "id": "26ac493e",
   "metadata": {
    "height": 30
   },
   "outputs": [],
   "source": []
  },
  {
   "cell_type": "code",
   "execution_count": null,
   "id": "f94cdacd",
   "metadata": {
    "height": 30
   },
   "outputs": [],
   "source": []
  }
 ],
 "metadata": {
  "kernelspec": {
   "display_name": "Python 3 (ipykernel)",
   "language": "python",
   "name": "python3"
  },
  "language_info": {
   "codemirror_mode": {
    "name": "ipython",
    "version": 3
   },
   "file_extension": ".py",
   "mimetype": "text/x-python",
   "name": "python",
   "nbconvert_exporter": "python",
   "pygments_lexer": "ipython3",
   "version": "3.10.9"
  }
 },
 "nbformat": 4,
 "nbformat_minor": 5
}
